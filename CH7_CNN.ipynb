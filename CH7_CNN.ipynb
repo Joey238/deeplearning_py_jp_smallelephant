{
 "cells": [
  {
   "cell_type": "markdown",
   "metadata": {},
   "source": [
    "#CNN convolutional NN\n",
    "１．卷积层\n",
    "Convolution-ReLU-pooling \n",
    "> 全连接层的问题\n",
    "　１．忽略资料的形状，　例如输入的data为影像:水平，垂直，色版方向的三维形状\n",
    "\n",
    "> 卷积运算\n",
    "１．影响处理做比喻卷积运算：　滤镜运算\n",
    "    + 输入资料是拥有垂直，水平形状的资料，滤镜／kernel也同样拥有垂直，水平方向的维度\n",
    "    + 3维资料的卷积：输入资料与滤镜的色版数同值\n",
    "\n",
    "> Padding 填补\n",
    "+ 使用填补是为了调整输出大小\n",
    "\n",
    "\n",
    "> Stride　步幅\n",
    "+ 步幅变大，输出大小就会变小; 而填补变大，输出大小变大．\n",
    "\n",
    ">公式：　他们的关系\n",
    "\n",
    "２．池化层　Ｐooling\n",
    "> 缩小垂直和水平空间的运算\n",
    "+ In general，池化的视窗大小与步幅设定成相同数值，即３x3的pooling, stride=3\n",
    "+ Max pooling, average pooling, \n",
    "\n",
    "> Features: \n",
    "+ 没有学习参数：　只进行从目标区域取得最大值(or　平均)的处理，无需学习参数\n",
    "+ 色斑数量不变\n",
    "+ 对微小位置变化很稳健（robust): 即对输入资料的微小偏差，吃话仍会回传相同结果，很稳健\n",
    "\n",
    "３．执行卷积层/池化层\n",
    "> 四维阵列\n",
    "+ 其实，只需要使用im2col这个妙招"
   ]
  },
  {
   "cell_type": "code",
   "execution_count": 2,
   "metadata": {},
   "outputs": [
    {
     "data": {
      "text/plain": [
       "(10, 1, 28, 28)"
      ]
     },
     "execution_count": 2,
     "metadata": {},
     "output_type": "execute_result"
    }
   ],
   "source": [
    "import numpy as np\n",
    "x = np.random.rand(10,1,28,28)\n",
    "x.shape"
   ]
  },
  {
   "cell_type": "code",
   "execution_count": 3,
   "metadata": {},
   "outputs": [
    {
     "data": {
      "text/plain": [
       "(1, 28, 28)"
      ]
     },
     "execution_count": 3,
     "metadata": {},
     "output_type": "execute_result"
    }
   ],
   "source": [
    "x[8].shape #第９笔资料"
   ]
  },
  {
   "cell_type": "code",
   "execution_count": 4,
   "metadata": {},
   "outputs": [
    {
     "data": {
      "text/plain": [
       "(28, 28)"
      ]
     },
     "execution_count": 4,
     "metadata": {},
     "output_type": "execute_result"
    }
   ],
   "source": [
    "#地９个资料的第一个色版空间\n",
    "x[8][0].shape"
   ]
  },
  {
   "cell_type": "code",
   "execution_count": null,
   "metadata": {},
   "outputs": [],
   "source": []
  }
 ],
 "metadata": {
  "kernelspec": {
   "display_name": "Python3(venv_nlp)",
   "language": "python",
   "name": "venv_nlp"
  },
  "language_info": {
   "codemirror_mode": {
    "name": "ipython",
    "version": 3
   },
   "file_extension": ".py",
   "mimetype": "text/x-python",
   "name": "python",
   "nbconvert_exporter": "python",
   "pygments_lexer": "ipython3",
   "version": "3.5.2"
  }
 },
 "nbformat": 4,
 "nbformat_minor": 2
}
