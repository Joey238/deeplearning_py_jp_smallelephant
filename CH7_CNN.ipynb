{
 "cells": [
  {
   "cell_type": "markdown",
   "metadata": {},
   "source": [
    "#CNN convolutional NN\n",
    "Convolution-ReLU-pooling \n",
    "> 全连接层的问题\n",
    "　１．忽略资料的形状，　例如输入的data为影像:水平，垂直，色版方向的三维形状\n",
    "\n",
    "> 卷积运算\n",
    "１．影响处理做比喻卷积运算：　滤镜运算\n",
    "    + 输入资料是拥有垂直，水平形状的资料，滤镜／kernel也同样拥有垂直，水平方向的维度\n",
    "\n",
    "> Padding 填补"
   ]
  }
 ],
 "metadata": {
  "kernelspec": {
   "display_name": "Python3(venv_nlp)",
   "language": "python",
   "name": "venv_nlp"
  },
  "language_info": {
   "codemirror_mode": {
    "name": "ipython",
    "version": 3
   },
   "file_extension": ".py",
   "mimetype": "text/x-python",
   "name": "python",
   "nbconvert_exporter": "python",
   "pygments_lexer": "ipython3",
   "version": "3.5.2"
  }
 },
 "nbformat": 4,
 "nbformat_minor": 2
}
