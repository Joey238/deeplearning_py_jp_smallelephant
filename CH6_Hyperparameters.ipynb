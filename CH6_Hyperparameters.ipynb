{
 "cells": [
  {
   "cell_type": "markdown",
   "metadata": {},
   "source": [
    "#### 6.3. Batch normalization \n",
    "> 评价: \n",
    " + 提升了学习速度\n",
    " + 权重与设置变得稳健，　指　不会过渡依赖预设值\n",
    " + 可运用在各种场合\n",
    " \n",
    " \n",
    "#### 正规化　\n",
    ">+ 过度学习（overfitting) : \n",
    "- 过度适应训练资料，而无法顺利对应不含训练资料的其他data. 机器学习的目标是拥有一般化的能力，　即使没有遇到训练的data也可以正确识别．\n",
    "- 原因: 1. 拥有大量参数，表现力高得模型　　２．　训练资料太少\n",
    "- Solution: Ｗeight Decay 权重衰减\n",
    "    - 神经网路学习是以减少损失函数的值为目的．有较大权重的部分，课以罚金\n",
    "    - 加上权重Ｌ２　norm的weight decay \n",
    "> **Dropout**\n",
    "+ 当神经网络的模型复杂时，　单凭Ｗeight decay很难解决过度学习问题\n",
    "+ dropout 是一边消除神经元，一边学习的方法\n",
    "   + 　训练时，随机选出隐藏层的神经元，再将挑选出来的神经元删除，使其无法进行讯号传递全部的神经讯号\n",
    "   "
   ]
  },
  {
   "cell_type": "code",
   "execution_count": null,
   "metadata": {},
   "outputs": [],
   "source": []
  },
  {
   "cell_type": "code",
   "execution_count": null,
   "metadata": {},
   "outputs": [],
   "source": []
  },
  {
   "cell_type": "code",
   "execution_count": null,
   "metadata": {},
   "outputs": [],
   "source": []
  },
  {
   "cell_type": "code",
   "execution_count": null,
   "metadata": {},
   "outputs": [],
   "source": []
  },
  {
   "cell_type": "markdown",
   "metadata": {},
   "source": [
    "## 验证超参数　hyper-parameter\n",
    "+ 各层的神经元数量，批次大小，参数更新使得学习率，weight decay,etc.\n",
    "\n",
    "> 验证资料\n",
    "    - 使用测试data来评估模型的一般话能力，overfiting or not\n",
    "    - Importance: 不可以用测试资料来评估超参数的效能\n",
    "        - 因为，　这样超参数值会对测试资料产生过度学习\n",
    "    - 调超参，　必须准备超参数专用的确认资料，　其称ｖalidation data\n",
    "    - ps: training data 使用来进行参数（w,b)学习，而验证data是用来评估超参数的效能．最后，用测试资料检查一般化能力．\n",
    "> 执行超参数最佳化\n",
    "- 以学习率以及控制Ｗeight decay 强度的系数，当作寻找最佳化的对象"
   ]
  },
  {
   "cell_type": "code",
   "execution_count": null,
   "metadata": {},
   "outputs": [],
   "source": []
  }
 ],
 "metadata": {
  "kernelspec": {
   "display_name": "Python3(venv_nlp)",
   "language": "python",
   "name": "venv_nlp"
  },
  "language_info": {
   "codemirror_mode": {
    "name": "ipython",
    "version": 3
   },
   "file_extension": ".py",
   "mimetype": "text/x-python",
   "name": "python",
   "nbconvert_exporter": "python",
   "pygments_lexer": "ipython3",
   "version": "3.5.2"
  }
 },
 "nbformat": 4,
 "nbformat_minor": 2
}
